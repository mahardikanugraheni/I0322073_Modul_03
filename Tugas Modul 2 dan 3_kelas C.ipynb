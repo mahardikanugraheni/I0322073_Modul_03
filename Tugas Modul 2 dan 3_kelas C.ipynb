{
 "cells": [
  {
   "cell_type": "code",
   "execution_count": 1,
   "metadata": {},
   "outputs": [
    {
     "name": "stdout",
     "output_type": "stream",
     "text": [
      "Mahardika W.N\n",
      "I0322073\n",
      "Kelas C\n"
     ]
    }
   ],
   "source": [
    "print(input(\"Nama: \"))\n",
    "print(input(\"NIM: \"))\n",
    "print(input(\"Kelas: \"))"
   ]
  },
  {
   "attachments": {},
   "cell_type": "markdown",
   "metadata": {},
   "source": [
    "## 1."
   ]
  },
  {
   "attachments": {},
   "cell_type": "markdown",
   "metadata": {},
   "source": [
    "buatlah program sederhana untuk:\n",
    "* **A** mencari massa jika diketahui nilai energi potensial, percepatan gravitasi, dan ketinggian benda! beserta rumus nya!\n",
    "* **B** mencari gaya apung jika diketahui massa jenis, tinggi, panjang, dan lebar benda serta percepatan gravitasi dan contohnya! beserta rumus nya!\n",
    "* **C** Tulis program Python untuk menghitung luas dari segi lima sama sisi!\n",
    "\n",
    "> *note* : rumus, contoh, dan nilai dari tiap variabel ditentukan oleh kalian sendiri dan gunakan satuan baku (SI) untuk menghitung nilai dari tiap variabel"
   ]
  },
  {
   "cell_type": "code",
   "execution_count": 3,
   "metadata": {},
   "outputs": [
    {
     "name": "stdout",
     "output_type": "stream",
     "text": [
      "Nilai Energi Potensial = 45.0 Joule\n",
      "Nilai Gravitasi = 10.0 m/s^2\n",
      "Nilai Ketinggian Benda = 6.0 m\n",
      "Maka Massa Benda yang didapat = 0.75 kg\n"
     ]
    }
   ],
   "source": [
    "#A Mencari Massa dari Nilai Energi Potensial\n",
    "Energi_Potensial=float(input(\"Masukkan Energi Potensial=\\t\"))\n",
    "Gravitasi=float(input(\"Masukkan Gravitasi=\\t\"))\n",
    "Ketinggian_Benda=float(input(\"Masukkan Ketinggian Benda\\t\"))\n",
    "Massa_Benda=(Energi_Potensial/(Gravitasi*Ketinggian_Benda))\n",
    "\n",
    "print(f\"Nilai Energi Potensial =\",Energi_Potensial,\"Joule\")\n",
    "print(f\"Nilai Gravitasi =\",Gravitasi,\"m/s^2\")\n",
    "print(f\"Nilai Ketinggian Benda =\",Ketinggian_Benda,\"m\")\n",
    "\n",
    "print(f\"Maka Massa Benda yang didapat =\",Massa_Benda,\"kg\")\n",
    "\n"
   ]
  },
  {
   "cell_type": "code",
   "execution_count": 4,
   "metadata": {},
   "outputs": [
    {
     "name": "stdout",
     "output_type": "stream",
     "text": [
      "Nilai Massa Jenis Zat Cair adalah 98.0 kg\n",
      "Nilai Percepatan Gravitasi adalah 10.0 m/s^2\n",
      "Tinggi Benda adalah 15.0 m\n",
      "Panjang Benda adalah 5.0 m\n",
      "Lebar Benda adalah 4.0 m\n",
      "Nilai Volume Benda adalah 300.0 m^3\n",
      "Maka Nilai Gaya Apung adalah 294000.0 N\n"
     ]
    }
   ],
   "source": [
    "#B Mencari Gaya Apung\n",
    "Massa_Jenis_Zat_Cair=float(input(\"Masukkan Massa Jenis Zat Cair=\\t\"))\n",
    "Percepatan_Gravitasi=float(input(\"Masukkan Percepatan Gravitasi=\\t\"))\n",
    "Tinggi_Benda=float(input(\"Masukkan Tinggi Benda=\\t\"))\n",
    "Panjang_Benda=float(input(\"Masukkan Panjang Benda=\\t\"))\n",
    "Lebar_Benda=float(input(\"Masukkan Lebar Benda=\\t\"))\n",
    "Volume_Benda=(Panjang_Benda*Lebar_Benda*Tinggi_Benda)\n",
    "Gaya_Apung=(Massa_Jenis_Zat_Cair*Volume_Benda*Percepatan_Gravitasi)\n",
    "\n",
    "print(f\"Nilai Massa Jenis Zat Cair adalah\",Massa_Jenis_Zat_Cair,\"kg\")\n",
    "print(f\"Nilai Percepatan Gravitasi adalah\",Percepatan_Gravitasi,\"m/s^2\")\n",
    "\n",
    "print(f\"Tinggi Benda adalah\",Tinggi_Benda,\"m\")\n",
    "print(f\"Panjang Benda adalah\",Panjang_Benda,\"m\")\n",
    "print(f\"Lebar Benda adalah\",Lebar_Benda,\"m\")\n",
    "\n",
    "print(f\"Nilai Volume Benda adalah\",Volume_Benda,\"m^3\")\n",
    "print(f\"Maka Nilai Gaya Apung adalah\",Gaya_Apung,\"N\")"
   ]
  },
  {
   "cell_type": "code",
   "execution_count": 2,
   "metadata": {},
   "outputs": [
    {
     "name": "stdout",
     "output_type": "stream",
     "text": [
      "Sisi dari Segilima sama sisi adalah 5.0 m\n",
      "Luas dari Segilima sama sisi adalah 8.602387002944834 m^2\n"
     ]
    }
   ],
   "source": [
    "#C Menghitung Luas Segi Lima Sama Sisi\n",
    "Sisi_Segilima=float(input(\"Masukkan Sisi Segilima =\\t\"))\n",
    "\n",
    "import math\n",
    "Luas_Segilima_Samasisi=1/4*(math.sqrt((5*(5+2*(math.sqrt(5)))*Sisi_Segilima**2)))\n",
    "\n",
    "print(f\"Sisi dari Segilima sama sisi adalah\",Sisi_Segilima,\"m\")\n",
    "print(f\"Luas dari Segilima sama sisi adalah\",Luas_Segilima_Samasisi,\"m^2\")"
   ]
  },
  {
   "attachments": {},
   "cell_type": "markdown",
   "metadata": {},
   "source": [
    "## 2."
   ]
  },
  {
   "attachments": {},
   "cell_type": "markdown",
   "metadata": {},
   "source": [
    "Taman bermain ANCOL memiliki berbagai wahana, salah satunya adalah bianglala. Harga tiket yang dijual berbeda tergantung dengan kategori nya. Harga tiket bagi orang dewasa atau yang berumur lebih dari 17 tahun adalah Rp 110.000 , harga tiket untuk anak-anak usia 6-16 tahun adalah Rp. 75.000 , sedangkan untuk usia dibawahnya tidak dikenakan biaya. Pada wahana bianglala sedang ada \"Promo RAMADHAN\" sebesar 20% bagi pembelian tiket lebih dari 2 pcs.\n",
    "\n",
    "Keluarga Anya Forger ingin menaiki wahana bianglala tersebut, Anya (usia 18 tahun) pergi bersama ayah dan ibunya beserta dua adiknya, Harry (usia 8 tahun) dan Taylor (usia 4 tahun). \n",
    "\n",
    "> Buatlah program sederhana untuk menghitung harga total dari pembelian tiket  oleh keluarga Anya dan harga tiket setelah mendapatkan diskon"
   ]
  },
  {
   "cell_type": "code",
   "execution_count": 8,
   "metadata": {},
   "outputs": [
    {
     "name": "stdout",
     "output_type": "stream",
     "text": [
      "Keluarga Anya yang naik wahana adalah  Anya, Ayah, Ibu, Harry, Taylor\n",
      "Harga Total dari pembelian tiket sebelum diskon adalah Rp. 405000\n",
      "Dalam menyambut bulan suci Ramadhan, wahana ANCOL memberikan diskon menjadi Rp. 324000.0\n"
     ]
    }
   ],
   "source": [
    "#Menghitung Harga Total dari Keluarga Anya ke ANCOL\n",
    "KeluargaAnyaYangIkut=input(\"Siapa Keluarga Anya yang naik wahana diatas 17 tahun\")\n",
    "\n",
    "Harga_Tiket_17tahun_Keatas= 110000\n",
    "Harga_Tiket_6sampai_16tahun= 75000\n",
    "Harga_Tiket_DibawahUmur= 0\n",
    "Jumlah_Keluarga_Anya_17tahun_Keatas=3\n",
    "Jumlah_Keluarga_Anya_6sampai_16tahun=1\n",
    "Jumlah_Keluarga_Anya_DibawahUmur=1\n",
    "\n",
    "Total_Harga_Sebelum_Diskon=(Jumlah_Keluarga_Anya_17tahun_Keatas*Harga_Tiket_17tahun_Keatas)+(Jumlah_Keluarga_Anya_6sampai_16tahun*Harga_Tiket_6sampai_16tahun)+(Jumlah_Keluarga_Anya_DibawahUmur*Harga_Tiket_DibawahUmur)\n",
    "\n",
    "#Dikarenakan Bulan Ramadhan ada potongan diskon sebesar 20% per 2 pcs tiket\n",
    "Total_Harga_Diskon=(2*Harga_Tiket_17tahun_Keatas*4/5)+((Harga_Tiket_17tahun_Keatas+Harga_Tiket_6sampai_16tahun)*4/5)\n",
    "print(f\"Keluarga Anya yang naik wahana adalah \",KeluargaAnyaYangIkut)\n",
    "print(f\"Harga Total dari pembelian tiket sebelum diskon adalah Rp.\",Total_Harga_Sebelum_Diskon)\n",
    "print(f\"Dalam menyambut bulan suci Ramadhan, wahana ANCOL memberikan diskon menjadi Rp.\",Total_Harga_Diskon)\n"
   ]
  },
  {
   "attachments": {},
   "cell_type": "markdown",
   "metadata": {},
   "source": [
    "## 3. "
   ]
  },
  {
   "attachments": {},
   "cell_type": "markdown",
   "metadata": {},
   "source": [
    "diberikan list aslab sebagai berikut:\n",
    "```python\n",
    "list_aslab = [\n",
    "    {\"nama\": \"Berlian Safri Prakoso\", \"nim\": \"I0320017\", \"kontak\": \"0858XXXXXXXX\"},\n",
    "    {\"nama\": \"Halidya Siti Hanifah\", \"nim\": \"I0320044\", \"kontak\": \"0878XXXXXXXX\"},\n",
    "    {\"nama\": \"Nurki Putra Mahardika\", \"nim\": \"I0320076\", \"kontak\": \"0877XXXXXXXX\"},\n",
    "    {\"nama\": \"Aji Manarul Aziz\", \"nim\": \"I0320119\", \"kontak\": \"0812XXXXXXXX\"},\n",
    "    {\"nama\": \"Alica Ayu Fitriani\", \"nim\": \"I0320121\", \"kontak\": \"0896XXXXXXXX\"},\n",
    "    {\"nama\": \"Dendy Halim Kusuma\", \"nim\": \"I0320125\", \"kontak\": \"0822XXXXXXXX\"}\n",
    "]\n",
    "```\n",
    "* **A** Tuliskan kode untuk mengakses informasi tentang \"nama\" dari semua aslab mulai dari index 1 sampai 5\n",
    "* **B** Tambahkan informasi berikut pada data aslab dan tampilkan hasilnya:\n",
    "```python\n",
    "    surel = [\"berlian@student.uns.ac.id\",\n",
    "          \"halidya@student.uns.ac.id\",\n",
    "          \"nurki@student.uns.ac.id\",\n",
    "          \"manarul@student.uns.ac.id\",\n",
    "          \"alica@student.uns.ac.id\",\n",
    "          \"dendy@student.uns.ac.id\"]\n",
    "```\n",
    "* **C** Hapus nilai pada kunci \"kontak\" pada list aslab dan tampilkan hasilnya\n",
    "> *note: kalian hanya boleh menggunakan key-value pair yang disebutkan di dalam teks, tanpa menggunakan informasi tambahan yang diambil pada list yang ada*"
   ]
  },
  {
   "cell_type": "code",
   "execution_count": 7,
   "metadata": {},
   "outputs": [
    {
     "name": "stdout",
     "output_type": "stream",
     "text": [
      "Halidya Siti Hanifah\n",
      "Nurki Putra Mahardika\n",
      "Aji Manarul Aziz\n",
      "Alica Ayu Fitriani\n",
      "Dendy Halim Kusuma\n",
      "-----------------------\n",
      "{'nama': 'Berlian Safri Prakoso', 'nim': 'I0320017', 'kontak': '0858XXXXXXXX', 'surel': 'berlian@student.uns.ac.id'}\n",
      "{'nama': 'Halidya Siti Hanifah', 'nim': 'I0320044', 'kontak': '0878XXXXXXXX', 'surel': 'halidya@student.uns.ac.id'}\n",
      "{'nama': 'Nurki Putra Mahardika', 'nim': 'I0320076', 'kontak': '0877XXXXXXXX', 'surel': 'nurki@student.uns.ac.id'}\n",
      "{'nama': 'Aji Manarul Aziz', 'nim': 'I0320119', 'kontak': '0812XXXXXXXX', 'surel': 'manarul@student.uns.ac.id'}\n",
      "{'nama': 'Alica Ayu Fitriani', 'nim': 'I0320121', 'kontak': '0896XXXXXXXX', 'surel': 'alica@student.uns.ac.id'}\n",
      "{'nama': 'Dendy Halim Kusuma', 'nim': 'I0320125', 'kontak': '0822XXXXXXXX', 'surel': 'dendy@student.uns.ac.id'}\n",
      "-----------------------\n",
      "{'nama': 'Berlian Safri Prakoso', 'nim': 'I0320017', 'surel': 'berlian@student.uns.ac.id'}\n",
      "{'nama': 'Halidya Siti Hanifah', 'nim': 'I0320044', 'surel': 'halidya@student.uns.ac.id'}\n",
      "{'nama': 'Nurki Putra Mahardika', 'nim': 'I0320076', 'surel': 'nurki@student.uns.ac.id'}\n",
      "{'nama': 'Aji Manarul Aziz', 'nim': 'I0320119', 'surel': 'manarul@student.uns.ac.id'}\n",
      "{'nama': 'Alica Ayu Fitriani', 'nim': 'I0320121', 'surel': 'alica@student.uns.ac.id'}\n",
      "{'nama': 'Dendy Halim Kusuma', 'nim': 'I0320125', 'surel': 'dendy@student.uns.ac.id'}\n"
     ]
    }
   ],
   "source": [
    "#A Mengakses Informasi Aslab\n",
    "list_aslab =[\n",
    "    {\"nama\":\"Berlian Safri Prakoso\", \"nim\":\"I0320017\",\"kontak\":\"0858XXXXXXXX\"},\n",
    "    {\"nama\":\"Halidya Siti Hanifah\", \"nim\":\"I0320044\",\"kontak\":\"0878XXXXXXXX\"},\n",
    "    {\"nama\":\"Nurki Putra Mahardika\", \"nim\":\"I0320076\",\"kontak\":\"0877XXXXXXXX\"},\n",
    "    {\"nama\":\"Aji Manarul Aziz\", \"nim\":\"I0320119\",\"kontak\":\"0812XXXXXXXX\"},\n",
    "    {\"nama\":\"Alica Ayu Fitriani\", \"nim\":\"I0320121\",\"kontak\":\"0896XXXXXXXX\"},\n",
    "    {\"nama\":\"Dendy Halim Kusuma\", \"nim\":\"I0320125\",\"kontak\":\"0822XXXXXXXX\"},\n",
    "]\n",
    "\n",
    "for i in range(1,6):\n",
    "    print(list_aslab[i][\"nama\"])\n",
    "print(\"-----------------------\")\n",
    "\n",
    "#B Menambahkan Surel pada Data\n",
    "surel = [\"berlian@student.uns.ac.id\",\n",
    "          \"halidya@student.uns.ac.id\",\n",
    "          \"nurki@student.uns.ac.id\",\n",
    "          \"manarul@student.uns.ac.id\",\n",
    "          \"alica@student.uns.ac.id\",\n",
    "          \"dendy@student.uns.ac.id\"]\n",
    "\n",
    "for i in range(len(list_aslab)):\n",
    "    list_aslab[i][\"surel\"] = surel[i]\n",
    "\n",
    "for aslab in list_aslab:\n",
    "    print(aslab)\n",
    "print(\"-----------------------\")\n",
    "\n",
    "#C Menghapus Kontak pada Data\n",
    "for aslab in list_aslab:\n",
    "    del aslab[\"kontak\"]\n",
    "    print(aslab)"
   ]
  }
 ],
 "metadata": {
  "kernelspec": {
   "display_name": "Python 3",
   "language": "python",
   "name": "python3"
  },
  "language_info": {
   "codemirror_mode": {
    "name": "ipython",
    "version": 3
   },
   "file_extension": ".py",
   "mimetype": "text/x-python",
   "name": "python",
   "nbconvert_exporter": "python",
   "pygments_lexer": "ipython3",
   "version": "3.11.2"
  },
  "orig_nbformat": 4,
  "vscode": {
   "interpreter": {
    "hash": "5addf786bcd861d1ce5006f23111f8cbb206731e5b61b0a5632ba9e0252558a8"
   }
  }
 },
 "nbformat": 4,
 "nbformat_minor": 2
}
